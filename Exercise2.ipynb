{
 "cells": [
  {
   "cell_type": "markdown",
   "metadata": {},
   "source": [
    "## Exercise 2\n",
    "\n",
    "In the `FiniteDifferences` notebook we considered the differential equation controlling heat flow which relates the rate of change in $T$, the temperature, to spatial gradients in the same quantity. \n",
    "\n",
    "$$\n",
    "\\frac{\\partial T}{\\partial t} = \\kappa \\frac{\\partial^2 T}{\\partial x^2} + H\n",
    "$$\n",
    "       \n",
    "       \n",
    "We ignored $H$ and solved a number of examples. \n",
    "\n",
    "At the end of the notebook we looked at the time-varying solution of the heat equation using an explicit finite difference approximation. Given all the trouble we went to setting this up, don't you think it would be a good idea to see if we can iterate until we reach the steady-state solution?\n",
    "\n",
    "This is not very complicated to do so I would like you to try it __for the case where $\\kappa$ is constant__.\n",
    "\n",
    "You can copy and paste the cells from the `FiniteDifferences` here to get started."
   ]
  },
  {
   "cell_type": "markdown",
   "metadata": {
    "collapsed": true
   },
   "source": [
    "## Hints\n",
    "\n",
    "You have most of the code you need. The `np.gradient` function will still be useful ... in fact you really only have to put everything in a `for` loop and enforce the boundary conditions.\n"
   ]
  },
  {
   "cell_type": "code",
   "execution_count": 1,
   "metadata": {},
   "outputs": [],
   "source": [
    "import numpy as np\n",
    "import matplotlib.pyplot as plt"
   ]
  },
  {
   "cell_type": "code",
   "execution_count": 2,
   "metadata": {},
   "outputs": [
    {
     "name": "stdout",
     "output_type": "stream",
     "text": [
      "The for loop converges at 3742 iteration\n"
     ]
    }
   ],
   "source": [
    "ny = 30\n",
    "nx = 30\n",
    "\n",
    "dx = 1\n",
    "dy = 1\n",
    "\n",
    "T = np.zeros((ny,nx))\n",
    "T[0,:] = 300\n",
    "T[-1,:] = 800\n",
    "\n",
    "k = 1.0\n",
    "time = 0.0\n",
    "nsim = 10000\n",
    "\n",
    "for i in range(0,nsim):\n",
    "        \n",
    "    gradTx, gradTy = np.gradient(T, dx, dy)\n",
    "    flux_x = k*gradTx\n",
    "    flux_y = k*gradTy\n",
    "\n",
    "    gradTxx, gradTxy = np.gradient(flux_x, dx, dy)\n",
    "    gradTyx, gradTyy = np.gradient(flux_y, dx, dy)\n",
    "\n",
    "    divT = gradTxx + gradTyy\n",
    "    dt = (dx*dy)/k\n",
    "    time += dt  \n",
    "\n",
    "    T_new = T + dt*divT\n",
    "    \n",
    "    T2 = T.copy()\n",
    "    \n",
    "    T = T_new\n",
    "    \n",
    "    if np.all(np.abs(T2 - T) < 0.001):\n",
    "        break\n",
    "\n",
    "if i != nsim-1:\n",
    "    print(\"The for loop converges at\", i, \"iteration\")\n",
    "else:\n",
    "    print(\"The for loop does not successfully converge. Please try a larger number for nsim.\")"
   ]
  },
  {
   "cell_type": "code",
   "execution_count": 3,
   "metadata": {},
   "outputs": [
    {
     "data": {
      "image/png": "[encoded data removed]",
      "text/plain": [
       "<Figure size 864x432 with 2 Axes>"
      ]
     },
     "metadata": {
      "needs_background": "light"
     },
     "output_type": "display_data"
    }
   ],
   "source": [
    "fig = plt.figure(1, figsize=(12,6))\n",
    "ax = fig.add_subplot(111)\n",
    "ax.set_title(\"Steady State of Heat Map\", fontsize=20)\n",
    "\n",
    "ax.set_xticks([])\n",
    "ax.set_yticks([])\n",
    "\n",
    "im = ax.imshow(T_new, cmap='Reds')\n",
    "cbar = plt.colorbar(im)\n",
    "cbar.set_label('Temperature', loc='center')\n",
    "\n",
    "pass"
   ]
  },
  {
   "cell_type": "markdown",
   "metadata": {},
   "source": [
    "Here we see code for creating a heat map with a grid of 30 by 30; an initial starting temperature of 300 for the top border and 800 for the bottom; and thermal conductivity of 1. To reach steady state, a for loop is created where for each iteration T_new replaces T so that T_new is recalculated with the updated heat map. An if statement is subsequently added to stop the for loop after reaching steady state. A second if statement is added to tell the user if nsim (number of maximum iterations) is too small and should be changed."
   ]
  },
  {
   "cell_type": "markdown",
   "metadata": {},
   "source": [
    "We know that there is an instability in the code which occurs if the timestep is too large. Currently the timestep size is related to the size of the mesh and the diffusivity:\n",
    "\n",
    "$$\n",
    "\\Delta t = \\frac{\\Delta x \\Delta y}{\\kappa}\n",
    "$$\n",
    "\n",
    "\n",
    "What happens if you overwrite the timestep size, `dt`? What is the point where the solution begins to breakdown and you see wild oscillations? Is it pretty close to the above relation?"
   ]
  },
  {
   "cell_type": "code",
   "execution_count": 4,
   "metadata": {},
   "outputs": [],
   "source": [
    "ny = 30\n",
    "nx = 30\n",
    "\n",
    "dx = 1\n",
    "dy = 1\n",
    "\n",
    "T = np.zeros((ny,nx))\n",
    "T[0,:] = 300\n",
    "T[-1,:] = 800\n",
    "\n",
    "k = 1.0\n",
    "time = 0.0\n",
    "nsim = 10000\n",
    "\n",
    "for i in range(0,nsim):\n",
    "        \n",
    "    gradTx, gradTy = np.gradient(T, dx, dy)\n",
    "    flux_x = k*gradTx\n",
    "    flux_y = k*gradTy\n",
    "\n",
    "    gradTxx, gradTxy = np.gradient(flux_x, dx, dy)\n",
    "    gradTyx, gradTyy = np.gradient(flux_y, dx, dy)\n",
    "\n",
    "    divT = gradTxx + gradTyy\n",
    "    dt = 2.0242\n",
    "    time += dt  \n",
    "\n",
    "    T_new = T + dt*divT\n",
    "    \n",
    "    T2 = T.copy()\n",
    "    \n",
    "    T = T_new\n",
    "    \n",
    "    if np.all(np.abs(T2 - T) < 0.001):\n",
    "        break"
   ]
  },
  {
   "cell_type": "code",
   "execution_count": 5,
   "metadata": {},
   "outputs": [
    {
     "data": {
      "image/png": "[encoded data removed]",
      "text/plain": [
       "<Figure size 864x432 with 2 Axes>"
      ]
     },
     "metadata": {
      "needs_background": "light"
     },
     "output_type": "display_data"
    }
   ],
   "source": [
    "fig = plt.figure(1, figsize=(12,6))\n",
    "ax = fig.add_subplot(111)\n",
    "ax.set_title(\"Unstable Heat Map\", fontsize=20)\n",
    "\n",
    "ax.set_xticks([])\n",
    "ax.set_yticks([])\n",
    "\n",
    "im = ax.imshow(T_new, cmap='viridis')\n",
    "cbar = plt.colorbar(im)\n",
    "cbar.set_label('Temperature', loc='center')\n",
    "\n",
    "pass"
   ]
  },
  {
   "cell_type": "markdown",
   "metadata": {},
   "source": [
    "We can see here that by changing dt above a certain threshold (in this case 2.0242) the heat map begins to break down. Changing this value higher incrementally by 0.0001 results in further degradation. This is due to the exponential rise after constantly multiplying and adding T from the for loop (T_new = T + dt * divT and then replacing T with T_new). It simply cannot calculate such high numbers. "
   ]
  },
  {
   "cell_type": "code",
   "execution_count": null,
   "metadata": {},
   "outputs": [],
   "source": []
  }
 ],
 "metadata": {
  "kernelspec": {
   "display_name": "Python 3 (ipykernel)",
   "language": "python",
   "name": "python3"
  },
  "language_info": {
   "codemirror_mode": {
    "name": "ipython",
    "version": 3
   },
   "file_extension": ".py",
   "mimetype": "text/x-python",
   "name": "python",
   "nbconvert_exporter": "python",
   "pygments_lexer": "ipython3",
   "version": "3.10.2"
  }
 },
 "nbformat": 4,
 "nbformat_minor": 1
}
